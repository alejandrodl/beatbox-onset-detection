{
 "cells": [
  {
   "cell_type": "code",
   "execution_count": 1,
   "metadata": {},
   "outputs": [],
   "source": [
    "import os\n",
    "import madmom\n",
    "import sklearn\n",
    "import IPython\n",
    "import numpy as np\n",
    "import scipy as sp\n",
    "import matplotlib.pyplot as plt\n",
    "from scipy.interpolate import make_interp_spline\n",
    "\n",
    "from mir_eval.onset import f_measure"
   ]
  },
  {
   "cell_type": "code",
   "execution_count": 2,
   "metadata": {},
   "outputs": [
    {
     "data": {
      "text/plain": [
       "\"audio = np.load('../../data/interim/Audio_TrainVal.npy')\\nsf.write('../../data/interim/Audio_TrainVal.wav', audio, 44100)\\n\\naudio = np.load('../../data/interim/Audio_Test.npy')\\nsf.write('../../data/interim/Audio_Test.wav', audio, 44100)\""
      ]
     },
     "execution_count": 2,
     "metadata": {},
     "output_type": "execute_result"
    }
   ],
   "source": [
    "# Convert to wav data\n",
    "\n",
    "'''audio = np.load('../../data/interim/Audio_TrainVal.npy')\n",
    "sf.write('../../data/interim/Audio_TrainVal.wav', audio, 44100)\n",
    "\n",
    "audio = np.load('../../data/interim/Audio_Test.npy')\n",
    "sf.write('../../data/interim/Audio_Test.wav', audio, 44100)'''"
   ]
  },
  {
   "cell_type": "code",
   "execution_count": 3,
   "metadata": {},
   "outputs": [
    {
     "data": {
      "text/plain": [
       "'num_networks = 12\\nfor num_network in range(num_networks):\\n    Classes_TrainVal_Raw = np.array([0,0,0,0,0,0,0,0,0,0,0,0,0,0,0,0,0,0,0,0,1,0,0,0,0,0,0,0,0,0,0,0,0,0,0,0,0,0,0,0,0,])\\n    pad_left = np.clip(num_network-(num_networks//2),0,(num_networks//2))\\n    pad_right = np.clip((num_networks//2)-num_network,0,(num_networks//2))\\n    print([[pad_left,pad_right]])\\n    Classes_TrainVal_Raw = np.concatenate((np.zeros(pad_left),\\n                                        Classes_TrainVal_Raw[pad_left:-pad_right],\\n                                        np.zeros(pad_right)))\\n    print(Classes_TrainVal_Raw)'"
      ]
     },
     "execution_count": 3,
     "metadata": {},
     "output_type": "execute_result"
    }
   ],
   "source": [
    "'''num_networks = 12\n",
    "for num_network in range(num_networks):\n",
    "    Classes_TrainVal_Raw = np.array([0,0,0,0,0,0,0,0,0,0,0,0,0,0,0,0,0,0,0,0,1,0,0,0,0,0,0,0,0,0,0,0,0,0,0,0,0,0,0,0,0,])\n",
    "    pad_left = np.clip(num_network-(num_networks//2),0,(num_networks//2))\n",
    "    pad_right = np.clip((num_networks//2)-num_network,0,(num_networks//2))\n",
    "    print([[pad_left,pad_right]])\n",
    "    Classes_TrainVal_Raw = np.concatenate((np.zeros(pad_left),\n",
    "                                        Classes_TrainVal_Raw[pad_left:-pad_right],\n",
    "                                        np.zeros(pad_right)))\n",
    "    print(Classes_TrainVal_Raw)'''"
   ]
  },
  {
   "cell_type": "code",
   "execution_count": 5,
   "metadata": {},
   "outputs": [
    {
     "name": "stdout",
     "output_type": "stream",
     "text": [
      "0.28324778348110125\n",
      "0.4941670555296313\n",
      "0.5804946336910871\n",
      "0.6411572561829212\n",
      "0.6682221185254317\n"
     ]
    }
   ],
   "source": [
    "pick_picker = madmom.features.onsets.OnsetPeakPickingProcessor(fps=100,pre_max=1./100,post_max=1./100)\n",
    "detector = madmom.features.onsets.RNNOnsetProcessor()\n",
    "\n",
    "activation_function = detector('../../data/interim/Audio_Test_44K.wav')\n",
    "onset_predictions = pick_picker(activation_function)\n",
    "\n",
    "ground_truth = (np.load('../../data/interim/Onsets_Test_44K.npy')-1024)/44100\n",
    "window_length = 0.025\n",
    "f1_score, precision, recall = f_measure(ground_truth, onset_predictions, window=window_length)\n",
    "print(f1_score)"
   ]
  },
  {
   "cell_type": "code",
   "execution_count": 114,
   "metadata": {},
   "outputs": [],
   "source": [
    "'''ground_truth = np.load('../../data/interim/Classes_Test.npy')\n",
    "\n",
    "hop_size_ms = 128/22050\n",
    "factor = np.arange(len(ground_truth))*hop_size_ms\n",
    "ground_truth = factor*ground_truth\n",
    "\n",
    "j = np.where(ground_truth!=0)\n",
    "ground_truth = ground_truth[j]\n",
    "\n",
    "ground_truth = ground_truth[:ground_truth.argmax()]+(64/22050)\n",
    "for s in range(len(ground_truth)-1):\n",
    "    if ground_truth[s+1]<ground_truth[s]:\n",
    "        print('ensuring monotonic ground_truth')\n",
    "        ground_truth[s+1] = ground_truth[s]'''"
   ]
  },
  {
   "cell_type": "code",
   "execution_count": 2,
   "metadata": {},
   "outputs": [
    {
     "name": "stdout",
     "output_type": "stream",
     "text": [
      "0.4463107378524295\n",
      "0.6814637072585483\n",
      "0.7306538692261548\n",
      "0.7578484303139372\n",
      "0.7790441911617676\n"
     ]
    }
   ],
   "source": [
    "pick_picker = madmom.features.onsets.OnsetPeakPickingProcessor(fps=100,pre_max=1./100,post_max=1./100)\n",
    "detector = madmom.features.onsets.CNNOnsetProcessor()\n",
    "\n",
    "activation_function = detector('../../data/interim/Audio_Test_44K.wav')\n",
    "onset_predictions = pick_picker(activation_function)\n",
    "\n",
    "ground_truth = (np.load('../../data/interim/Onsets_Test_44K.npy')-1024)/44100\n",
    "window_length = 0.025\n",
    "f1_score, precision, recall = f_measure(ground_truth, onset_predictions, window=window_length)\n",
    "print(f1_score)"
   ]
  },
  {
   "cell_type": "code",
   "execution_count": 107,
   "metadata": {},
   "outputs": [
    {
     "data": {
      "text/plain": [
       "[<matplotlib.lines.Line2D at 0x7ff26f6f6518>]"
      ]
     },
     "execution_count": 107,
     "metadata": {},
     "output_type": "execute_result"
    },
    {
     "data": {
      "image/png": "[encoded data removed]",
      "text/plain": [
       "<Figure size 432x288 with 1 Axes>"
      ]
     },
     "metadata": {
      "needs_background": "light"
     },
     "output_type": "display_data"
    }
   ],
   "source": [
    "audio_test = np.load('../../data/interim/Audio_Test.npy')\n",
    "plt.plot(audio_test[40000:45000])"
   ]
  },
  {
   "cell_type": "code",
   "execution_count": 8,
   "metadata": {},
   "outputs": [
    {
     "name": "stdout",
     "output_type": "stream",
     "text": [
      "Method = superflux | Hop Size = 172 | Window Length = 0.025\n",
      "0.2539484621778886\n",
      "Method = complex_flux | Hop Size = 172 | Window Length = 0.025\n",
      "0.3364711978581916\n",
      "Method = high_frequency_content | Hop Size = 172 | Window Length = 0.025\n",
      "0.268165906438952\n",
      "Method = spectral_diff | Hop Size = 172 | Window Length = 0.025\n",
      "0.2591331269349845\n",
      "Method = spectral_flux | Hop Size = 172 | Window Length = 0.025\n",
      "0.22374250716705762\n",
      "Method = modified_kullback_leibler | Hop Size = 172 | Window Length = 0.025\n",
      "0.19374692269817823\n",
      "Method = phase_deviation | Hop Size = 172 | Window Length = 0.025\n",
      "0.21638530823580174\n",
      "Method = weighted_phase_deviation | Hop Size = 172 | Window Length = 0.025\n",
      "0.42740108070420074\n",
      "Method = normalized_weighted_phase_deviation | Hop Size = 172 | Window Length = 0.025\n",
      "0.26526904262753315\n",
      "Method = complex_domain | Hop Size = 172 | Window Length = 0.025\n",
      "0.23206518409606078\n",
      "Method = rectified_complex_domain | Hop Size = 172 | Window Length = 0.025\n",
      "0.22519106236508954\n"
     ]
    }
   ],
   "source": [
    "# Main Loop\n",
    "\n",
    "methods = ['superflux','complex_flux','high_frequency_content','spectral_diff','spectral_flux','modified_kullback_leibler','phase_deviation','weighted_phase_deviation','normalized_weighted_phase_deviation','complex_domain','rectified_complex_domain']\n",
    "\n",
    "#methods = ['weighted_phase_deviation']\n",
    "\n",
    "if not os.path.isdir('../../results/madmom_results'):\n",
    "    os.mkdir('../../results/madmom_results')\n",
    "\n",
    "ground_truth = (np.load('../../data/interim/Onsets_Test_44K.npy')-1024)/44100\n",
    "frames_per_second = (1/(np.array([256])/44100)).astype(int)\n",
    "\n",
    "window_lengths = [0.025]\n",
    "\n",
    "f1_scores = np.zeros((len(methods),len(frames_per_second),len(window_lengths)))\n",
    "\n",
    "for a in range(len(methods)):\n",
    "\n",
    "    for b in range(len(frames_per_second)):\n",
    "\n",
    "        for c in range(len(window_lengths)):\n",
    "        \n",
    "            method = methods[a]\n",
    "            fps = frames_per_second[b]\n",
    "            window_length = window_lengths[c]\n",
    "\n",
    "            print('Method = ' + method + ' | Hop Size = ' + str(fps) + ' | Window Length = ' + str(window_length))\n",
    "\n",
    "            pick_picker = madmom.features.onsets.OnsetPeakPickingProcessor(fps=fps,pre_max=1./fps,post_max=1./fps)\n",
    "            detector = madmom.features.onsets.SpectralOnsetProcessor(onset_method=method,fps=fps)\n",
    "\n",
    "            activation_function = detector('../../data/interim/Audio_Test_44K.wav')\n",
    "            onset_predictions = pick_picker(activation_function)\n",
    "\n",
    "            f1_scores[a,b,c], precision, recall = f_measure(ground_truth, onset_predictions, window=window_length)\n",
    "\n",
    "            print(f1_scores[a,b,c])"
   ]
  },
  {
   "cell_type": "code",
   "execution_count": 200,
   "metadata": {},
   "outputs": [
    {
     "data": {
      "text/plain": [
       "array([[0.11276484, 0.22640518, 0.30397479, 0.34459814, 0.35457888],\n",
       "       [0.15331295, 0.30254842, 0.36595311, 0.39286442, 0.40061162],\n",
       "       [0.09495309, 0.19330314, 0.28890327, 0.33532837, 0.33532837],\n",
       "       [0.18744107, 0.28719593, 0.35263059, 0.38487649, 0.38695078],\n",
       "       [0.0952536 , 0.19539201, 0.29064561, 0.33591142, 0.33721404],\n",
       "       [0.08726799, 0.17095409, 0.26668838, 0.32204494, 0.33425594],\n",
       "       [0.0968032 , 0.19949309, 0.28534053, 0.33832066, 0.33897474],\n",
       "       [0.12332173, 0.2413393 , 0.38952428, 0.48964031, 0.52975303],\n",
       "       [0.10307199, 0.20577717, 0.29014214, 0.34718019, 0.3567171 ],\n",
       "       [0.10234576, 0.1905527 , 0.28904242, 0.33306555, 0.33306555],\n",
       "       [0.09706072, 0.19299096, 0.28439922, 0.33446382, 0.33478682]])"
      ]
     },
     "execution_count": 200,
     "metadata": {},
     "output_type": "execute_result"
    }
   ],
   "source": [
    "f1_scores[:,0]"
   ]
  },
  {
   "cell_type": "code",
   "execution_count": 201,
   "metadata": {},
   "outputs": [],
   "source": [
    "heuristic = np.array([0.12332173,0.2413393,0.38952428,0.48964031,0.52975303])\n",
    "stateless_rnn = np.array([0.3836107554417414,0.7257030093734584,0.8345153664302599,0.8446647780925401,0.8573456352022713])\n",
    "stateful_rnn = np.array([0.7755757900374934,0.7947154471544716,0.8087741935483871,0.8147410358565738,0.8297435897435897])\n",
    "pretrained_rnn = np.array([0.07146666666666666,0.1472,0.28159999999999996,0.5541333333333333,0.7664])"
   ]
  },
  {
   "cell_type": "code",
   "execution_count": 217,
   "metadata": {},
   "outputs": [
    {
     "data": {
      "image/png": "[encoded data removed]",
      "text/plain": [
       "<Figure size 432x288 with 1 Axes>"
      ]
     },
     "metadata": {
      "needs_background": "light"
     },
     "output_type": "display_data"
    }
   ],
   "source": [
    "x = np.array([5,10,15,20,25])\n",
    "\n",
    "spl_1 = make_interp_spline(x, pretrained_rnn)\n",
    "spl_2 = make_interp_spline(x, heuristic)\n",
    "spl_3 = make_interp_spline(x, stateless_rnn)\n",
    "spl_4 = make_interp_spline(x, stateful_rnn)\n",
    "\n",
    "x_spl = np.linspace(x.min(), x.max(), 5)\n",
    "\n",
    "pretrained_rnn_spl = spl_1(x_spl)\n",
    "heuristic_spl = spl_2(x_spl)\n",
    "stateless_rnn_spl = spl_3(x_spl)\n",
    "stateful_rnn_spl = spl_4(x_spl)\n",
    "\n",
    "plt.figure()\n",
    "plt.plot(x_spl, pretrained_rnn_spl, label='Pretrained RNN')\n",
    "plt.plot(x_spl, heuristic_spl, label='Heuristic')\n",
    "plt.plot(x_spl, stateless_rnn_spl, label='Stateless RNN')\n",
    "plt.plot(x_spl, stateful_rnn_spl, label='Stateful RNN')\n",
    "plt.scatter(x, pretrained_rnn, marker='D')\n",
    "plt.scatter(x, heuristic, marker='D')\n",
    "plt.scatter(x, stateless_rnn, marker='D')\n",
    "plt.scatter(x, stateful_rnn, marker='D')\n",
    "plt.legend()\n",
    "plt.show()"
   ]
  },
  {
   "cell_type": "code",
   "execution_count": null,
   "metadata": {},
   "outputs": [],
   "source": []
  }
 ],
 "metadata": {
  "interpreter": {
   "hash": "cb48abcdc181d408300664f1b626d5a56f30a6ae70e6a01b1309dfcd4a22c1c0"
  },
  "kernelspec": {
   "display_name": "Python 3.9.2 64-bit ('aubio': conda)",
   "name": "python3"
  },
  "language_info": {
   "codemirror_mode": {
    "name": "ipython",
    "version": 3
   },
   "file_extension": ".py",
   "mimetype": "text/x-python",
   "name": "python",
   "nbconvert_exporter": "python",
   "pygments_lexer": "ipython3",
   "version": "3.6.6"
  }
 },
 "nbformat": 4,
 "nbformat_minor": 4
}
